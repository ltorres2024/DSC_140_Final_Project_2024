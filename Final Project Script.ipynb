{
 "cells": [
  {
   "cell_type": "markdown",
   "metadata": {},
   "source": [
    "# Final Project: Soccer Machine Learning"
   ]
  },
  {
   "cell_type": "code",
   "execution_count": null,
   "metadata": {},
   "outputs": [],
   "source": [
    "# basic imports\n",
    "import pandas as pd\n",
    "import numpy as np\n",
    "import matplotlib.pyplot as plt\n",
    "import seaborn as sns\n",
    "import os\n",
    "from datetime import datetime\n",
    "import scipy.stats as stats\n",
    "\n",
    "# KNN imports\n",
    "from sklearn.model_selection import train_test_split\n",
    "from sklearn.neighbors import KNeighborsClassifier\n",
    "from sklearn.metrics import accuracy_score\n",
    "from sklearn.metrics import ConfusionMatrixDisplay\n",
    "\n",
    "# NN imports\n",
    "from tensorflow.keras.models import Sequential\n",
    "from tensorflow.keras.layers import Dense\n",
    "from sklearn.model_selection import train_test_split\n",
    "from sklearn.preprocessing import StandardScaler"
   ]
  },
  {
   "cell_type": "code",
   "execution_count": null,
   "metadata": {},
   "outputs": [],
   "source": [
    "# data files from local device\n",
    "events_data = pd.read_csv('/Users/leo/Library/CloudStorage/OneDrive-UniversityofMountUnion/DSC 140 Fall 2024/archive (1)/events.csv')\n",
    "game_info = pd.read_csv('/Users/leo/Library/CloudStorage/OneDrive-UniversityofMountUnion/DSC 140 Fall 2024/archive (1)/ginf.csv')\n",
    "dictionary = open('/Users/leo/Library/CloudStorage/OneDrive-UniversityofMountUnion/DSC 140 Fall 2024/archive (1)/dictionary.txt')"
   ]
  },
  {
   "cell_type": "code",
   "execution_count": null,
   "metadata": {},
   "outputs": [],
   "source": [
    "# column identification for games_info file\n",
    "game_info.columns"
   ]
  },
  {
   "cell_type": "code",
   "execution_count": null,
   "metadata": {},
   "outputs": [],
   "source": [
    "# merging events dataset with game_info based on \n",
    "# id_odsp column, retaining all rows from events_data and \n",
    "# adding the country and date columns from game_info\n",
    "events = events_data.merge(game_info[['id_odsp', 'country', 'date']], on='id_odsp', how='left')"
   ]
  },
  {
   "cell_type": "code",
   "execution_count": null,
   "metadata": {},
   "outputs": [],
   "source": [
    "# lambda function to extract the year from a date string in the format 'YYYY-MM-DD'.\n",
    "# applied function to the date column of the events dataset and store the results in a new year column\n",
    "extract_year = lambda x: datetime.strptime(x, \"%Y-%m-%d\").year\n",
    "events['year'] = [extract_year(x) for key, x in enumerate(events['date'])]"
   ]
  },
  {
   "cell_type": "code",
   "execution_count": null,
   "metadata": {},
   "outputs": [],
   "source": [
    "# filter the events file to create a new DataFrame shots\n",
    "# that contains only the rows where the event_type is 1 which corresponds to shot events\n",
    "shots = events[events.event_type == 1]"
   ]
  },
  {
   "cell_type": "code",
   "execution_count": null,
   "metadata": {},
   "outputs": [],
   "source": [
    "# get column indices for player, player2, and country in shots DataFrame \n",
    "player_idx = shots.columns.get_loc('player')\n",
    "player2_idx = shots.columns.get_loc('player2')\n",
    "country_idx = shots.columns.get_loc('country')"
   ]
  },
  {
   "cell_type": "code",
   "execution_count": null,
   "metadata": {},
   "outputs": [],
   "source": [
    "# Apply title-case formatting to the player, player2, and country columns in the shots\n",
    "# The function with a lambda ensures that the transformation is only applied to string values\n",
    "shots.iloc[:, player_idx] = shots.iloc[:, player_idx].apply(lambda x: x.title() if isinstance(x, str) else x)\n",
    "shots.iloc[:, player2_idx] = shots.iloc[:, player2_idx].apply(lambda x: x.title() if isinstance(x, str) else x)\n",
    "shots.iloc[:, country_idx] = shots.iloc[:, country_idx].apply(lambda x: x.title() if isinstance(x, str) else x)"
   ]
  },
  {
   "cell_type": "code",
   "execution_count": null,
   "metadata": {},
   "outputs": [],
   "source": [
    "# group the shots by shot_outcome and count the number of occurrences of each outcome \n",
    "# by counting the id_event in each group\n",
    "# rename the id_event column to count, then calculate the total count of \n",
    "# all shot outcomes by summing the count column.\n",
    "pie = shots[['shot_outcome', 'id_event']].groupby('shot_outcome').count().reset_index().rename(columns={'id_event': 'count'})\n",
    "count = pie['count'].sum()\n",
    "count"
   ]
  },
  {
   "cell_type": "code",
   "execution_count": null,
   "metadata": {},
   "outputs": [],
   "source": [
    "# convert shot_outcome to integer\n",
    "# replace the numeric values \n",
    "pie.shot_outcome = pie.shot_outcome.astype(int)\n",
    "pie.shot_outcome = pie.shot_outcome.replace({1: 'On Target', 2: 'Off Target', 3: 'Blocked', 4: 'Hit the Bar'})"
   ]
  },
  {
   "cell_type": "code",
   "execution_count": null,
   "metadata": {},
   "outputs": [],
   "source": [
    "# pie chart\n",
    "fig, ax = plt.subplots(figsize=[12,8])\n",
    "labels = pie['shot_outcome']\n",
    "plt.pie(x=pie['count'], autopct=\"%.1f%%\", labels=labels, explode=[0.02]*4, pctdistance=0.12, \\\n",
    "       textprops=dict(fontsize=12))\n",
    "plt.title(\"Shot Outcomes\", fontsize=24)\n",
    "plt.tight_layout()\n",
    "plt.show()"
   ]
  },
  {
   "cell_type": "code",
   "execution_count": null,
   "metadata": {},
   "outputs": [],
   "source": [
    "# convert shot_place to integers\n",
    "bar = shots[['shot_place', 'id_event']].groupby('shot_place').count().reset_index().rename(columns={'id_event': 'count'})\n",
    "bar.shot_place = bar.shot_place.astype(int)\n",
    "bar.shot_place = bar.shot_place.replace({1: 'High', 2: 'Blocked', 3: 'Bottom left corner', 4: 'Bottom right corner', \\\n",
    "                                        5: 'Centre of the goal', 6: 'High and wide', 7: 'Hits the bar', 8: 'Misses to the left', \\\n",
    "                                        9: 'Misses to the right', 10: 'Too high', 11: 'Top centre of the goal', \\\n",
    "                                        12: 'Top left corner', 13: 'Top right corner'})\n"
   ]
  },
  {
   "cell_type": "code",
   "execution_count": null,
   "metadata": {},
   "outputs": [],
   "source": [
    "# replace numeric goal values with labels Goal and No Goal\n",
    "goals  = shots[['is_goal', 'id_event', 'country']].groupby(['is_goal', 'country']).count().reset_index().rename(columns={'id_event': 'count'})\n",
    "goals.is_goal = goals.is_goal.replace({1: 'Goal', 0: 'No Goal'})"
   ]
  },
  {
   "cell_type": "code",
   "execution_count": null,
   "metadata": {},
   "outputs": [],
   "source": [
    "# calculate the percentage of goals and no-goals for each country\n",
    "goals['percentage']=0\n",
    "for i in range(len(goals)):\n",
    "    for country in goals.country.unique():\n",
    "        if goals.iloc[i,goals.columns.get_loc(\"country\")]==country:\n",
    "            goals.iloc[i,goals.columns.get_loc(\"percentage\")]=goals.iloc[i,goals.columns.get_loc(\"count\")] / \\\n",
    "                                                            goals[goals.country==country]['count'].sum()\n",
    "goals['percentage']=round(goals['percentage']*100,2)"
   ]
  },
  {
   "cell_type": "code",
   "execution_count": null,
   "metadata": {},
   "outputs": [],
   "source": [
    "# function to display the percentages on top of the bars in a bar plot\n",
    "def show_values_on_bars(axs):\n",
    "    def _show_on_single_plot(ax):        \n",
    "        for p in ax.patches:\n",
    "            _x = p.get_x() + p.get_width() / 2\n",
    "            _y = p.get_y() + p.get_height()\n",
    "            value = '{:.2f}%'.format(p.get_height())\n",
    "            ax.text(_x, _y+2, value, ha=\"center\", fontsize=14) \n",
    "\n",
    "    if isinstance(axs, np.ndarray):\n",
    "        for idx, ax in np.ndenumerate(axs):\n",
    "            _show_on_single_plot(ax)\n",
    "    else:\n",
    "        _show_on_single_plot(axs)"
   ]
  },
  {
   "cell_type": "code",
   "execution_count": null,
   "metadata": {},
   "outputs": [],
   "source": [
    "# bar plot\n",
    "sns.set_style(\"whitegrid\")\n",
    "fig, ax = plt.subplots(figsize=[12,6])\n",
    "ax = sns.barplot(data=goals, y='percentage', hue='is_goal', x='country')\n",
    "ax.set_ylabel(ylabel='Percentage %')\n",
    "ax.set_xlabel(xlabel='League')\n",
    "ax.set_xticks(range(len(goals['country'].unique())))\n",
    "ax.set_xticklabels(goals['country'].unique(), rotation=45)\n",
    "plt.title(\"Goal/No-Goal per Country\")\n",
    "plt.tight_layout()\n",
    "ax.grid(color='black', linestyle='-', axis='y')\n",
    "plt.legend(fontsize=10)\n",
    "show_values_on_bars(ax)\n",
    "plt.show()"
   ]
  },
  {
   "cell_type": "code",
   "execution_count": null,
   "metadata": {},
   "outputs": [],
   "source": [
    "# Group by shot_place and count events\n",
    "bar = shots[['shot_place', 'id_event']].groupby('shot_place').count().reset_index().rename(columns={'id_event': 'count'})"
   ]
  },
  {
   "cell_type": "code",
   "execution_count": null,
   "metadata": {},
   "outputs": [],
   "source": [
    "# contingency table between is_goal and shot_place\n",
    "# shows the frequency count of goals (1/0) for each shot place\n",
    "contingency_table = pd.crosstab(goals['is_goal'], bar['shot_place'])\n",
    "chi2, p, dof, expected = stats.chi2_contingency(contingency_table)"
   ]
  },
  {
   "cell_type": "code",
   "execution_count": null,
   "metadata": {},
   "outputs": [],
   "source": [
    "# handle missing values\n",
    "# replace nan with the mean\n",
    "X = shots[['shot_place']].fillna(shots['shot_place'].mean()) \n",
    "y = shots['is_goal']"
   ]
  },
  {
   "cell_type": "code",
   "execution_count": null,
   "metadata": {},
   "outputs": [],
   "source": [
    "# split data into training and test sets for KNN\n",
    "X_train, X_test, y_train, y_test = train_test_split(X, y, test_size=0.2, random_state=10)"
   ]
  },
  {
   "cell_type": "code",
   "execution_count": null,
   "metadata": {},
   "outputs": [],
   "source": [
    "# lists to store k values and corresponding accuracy scores\n",
    "k_values = []\n",
    "accuracy_scores = []"
   ]
  },
  {
   "cell_type": "code",
   "execution_count": null,
   "metadata": {},
   "outputs": [],
   "source": [
    "# loop over different k values\n",
    "for k in range(1, 75, 2):\n",
    "    classifier = KNeighborsClassifier(n_neighbors=k)\n",
    "    classifier.fit(X_train, y_train)\n",
    "    \n",
    "    # predict the target on the test set\n",
    "    prediction = classifier.predict(X_test)\n",
    "    \n",
    "    # calculate the accuracy and store the result\n",
    "    accuracy = accuracy_score(y_test, prediction)\n",
    "    k_values.append(k)\n",
    "    accuracy_scores.append(accuracy * 100)"
   ]
  },
  {
   "cell_type": "code",
   "execution_count": null,
   "metadata": {},
   "outputs": [],
   "source": [
    "# plotting the results\n",
    "plt.plot(k_values, accuracy_scores, linewidth=2, color=\"green\")\n",
    "plt.xlabel(\"Number of Neighbors\")\n",
    "plt.ylabel(\"Accuracy (%)\")\n",
    "plt.grid(True)\n",
    "plt.show()"
   ]
  },
  {
   "cell_type": "code",
   "execution_count": null,
   "metadata": {},
   "outputs": [],
   "source": [
    "# classifier using training data in test data\n",
    "# predict and records an accuracy score\n",
    "classifer = KNeighborsClassifier(n_neighbors=1)\n",
    "classifier.fit(X_train, y_train)\n",
    "predictions = classifier.predict(X_test)\n",
    "accuracy = accuracy_score(y_test, predictions)\n",
    "print('Accuracy:', accuracy*100)"
   ]
  },
  {
   "cell_type": "code",
   "execution_count": null,
   "metadata": {},
   "outputs": [],
   "source": [
    "# generates a confusion matrix\n",
    "# shows how many predictions were correct \n",
    "ConfusionMatrixDisplay.from_estimator(classifier, X_test, y_test)"
   ]
  },
  {
   "cell_type": "code",
   "execution_count": null,
   "metadata": {},
   "outputs": [],
   "source": [
    "# get unique shot locations\n",
    "unique_shot_places = shots['shot_place'].unique()"
   ]
  },
  {
   "cell_type": "code",
   "execution_count": null,
   "metadata": {},
   "outputs": [],
   "source": [
    "# predict goal probability for each shot place\n",
    "shot_goal_probabilities = []"
   ]
  },
  {
   "cell_type": "code",
   "execution_count": null,
   "metadata": {},
   "outputs": [],
   "source": [
    "for shot in unique_shot_places:\n",
    "    # creates a dataframe with a single shot_place\n",
    "    shot_df = pd.DataFrame({'shot_place': [shot]})\n",
    "    shot_df = shot_df.fillna(shots['shot_place'].mean())\n",
    "    \n",
    "    # predict using the trained model\n",
    "    probability = classifier.predict_proba(shot_df)[0][1]\n",
    "    shot_goal_probabilities.append((shot, probability))"
   ]
  },
  {
   "cell_type": "code",
   "execution_count": null,
   "metadata": {},
   "outputs": [],
   "source": [
    "# convert to DataFrame for visualization\n",
    "shot_prob_df = pd.DataFrame(shot_goal_probabilities, columns=['shot_place', 'goal_probability'])"
   ]
  },
  {
   "cell_type": "code",
   "execution_count": null,
   "metadata": {},
   "outputs": [],
   "source": [
    "# Plot the probabilities\n",
    "sns.barplot(data=shot_prob_df, x='shot_place', y='goal_probability')\n",
    "plt.xlabel(\"Shot Place\")\n",
    "plt.ylabel(\"Goal Probability\")\n",
    "plt.title(\"Goal Probability by Shot Place\")\n",
    "plt.xticks(rotation=45)\n",
    "plt.tight_layout()\n",
    "plt.show()"
   ]
  },
  {
   "cell_type": "code",
   "execution_count": null,
   "metadata": {},
   "outputs": [],
   "source": [
    "# mapping shot_place numeric codes to labels\n",
    "shot_place_labels = {\n",
    "    1: 'High', \n",
    "    2: 'Blocked', \n",
    "    3: 'Bottom left corner', \n",
    "    4: 'Bottom right corner',\n",
    "    5: 'Centre of the goal', \n",
    "    6: 'High and wide', \n",
    "    7: 'Hits the bar', \n",
    "    8: 'Misses to the left',\n",
    "    9: 'Misses to the right', \n",
    "    10: 'Too high', \n",
    "    11: 'Top centre of the goal',\n",
    "    12: 'Top left corner', \n",
    "    13: 'Top right corner'\n",
    "}"
   ]
  },
  {
   "cell_type": "code",
   "execution_count": null,
   "metadata": {},
   "outputs": [],
   "source": [
    "# convert the probabilities to a DataFrame\n",
    "shot_goal_prob_df = pd.DataFrame(shot_goal_probabilities, columns=['shot_place', 'goal_probability'])"
   ]
  },
  {
   "cell_type": "code",
   "execution_count": null,
   "metadata": {},
   "outputs": [],
   "source": [
    "# map the numeric shot_place codes to their labels\n",
    "shot_goal_prob_df['shot_place_label'] = shot_goal_prob_df['shot_place'].map(shot_place_labels)"
   ]
  },
  {
   "cell_type": "code",
   "execution_count": null,
   "metadata": {},
   "outputs": [],
   "source": [
    "# plotting the goal probabilities for each shot placement\n",
    "sns.set_style(\"whitegrid\")\n",
    "fig, ax = plt.subplots(figsize=[13, 6])\n",
    "sns.barplot(data=shot_goal_prob_df, y='shot_place_label', x='goal_probability', ax=ax)\n",
    "ax.set_xlabel(\"Goal Probability\", fontsize=14)\n",
    "ax.set_ylabel(\"\")\n",
    "ax.set_title(\"Goal Probability by Shot Placement\", fontsize=18)\n",
    "plt.tight_layout()\n",
    "plt.show()"
   ]
  },
  {
   "cell_type": "code",
   "execution_count": null,
   "metadata": {},
   "outputs": [],
   "source": [
    "# summary of stats in odd_a\n",
    "print(game_info['odd_a'].describe()) \n",
    "print(shots['shot_place'].value_counts())\n",
    "print(shots['country'].unique())\n",
    "print(shot_goal_probabilities)"
   ]
  },
  {
   "cell_type": "code",
   "execution_count": null,
   "metadata": {},
   "outputs": [],
   "source": [
    "# attempt of scatterplot for goal_probability and shot_place \n",
    "# with correlation scores\n",
    "plt.figure()\n",
    "plt.scatter(shot_goal_prob_df['goal_probability'], shot_goal_prob_df['shot_place'])\n",
    "pearson_corr = shot_goal_prob_df['shot_place'].corr(shot_goal_prob_df['goal_probability'])\n",
    "spearman_corr = shot_goal_prob_df['shot_place'].corr(shot_goal_prob_df['goal_probability'], method='spearman')\n",
    "print(\"Pearson Correlation:\", pearson_corr)\n",
    "print(\"Spearman Correlation:\", spearman_corr)"
   ]
  },
  {
   "cell_type": "code",
   "execution_count": null,
   "metadata": {},
   "outputs": [],
   "source": [
    "# extract the count for the group where is_goal is Goal/No Goal\n",
    "# Kolmogorov-Smirnov test on the two groups\n",
    "group1 = goals[goals['is_goal'] == 'Goal']['count']\n",
    "group2 = goals[goals['is_goal'] == 'No Goal']['count']\n",
    "ks_stat, ks_p_value = stats.ks_2samp(group1, group2)\n",
    "print(f\"KS Test Statistic: {ks_stat}, P-value: {ks_p_value}\")"
   ]
  },
  {
   "cell_type": "code",
   "execution_count": null,
   "metadata": {},
   "outputs": [],
   "source": [
    "# preprocess the data fo NN\n",
    "X = shots[['shot_place']].fillna(shots['shot_place'].mean()) \n",
    "y = shots['is_goal']"
   ]
  },
  {
   "cell_type": "code",
   "execution_count": null,
   "metadata": {},
   "outputs": [],
   "source": [
    "# split data into train and test sets\n",
    "_train, X_test, y_train, y_test = train_test_split(X, y, test_size=0.2, random_state=10)"
   ]
  },
  {
   "cell_type": "code",
   "execution_count": null,
   "metadata": {},
   "outputs": [],
   "source": [
    "# NN model\n",
    "model = Sequential()\n",
    "model.add(Dense(12, input_dim=X.shape[1], activation='relu'))\n",
    "model.add(Dense(8, activation='relu'))\n",
    "model.add(Dense(1, activation='sigmoid'))"
   ]
  },
  {
   "cell_type": "code",
   "execution_count": null,
   "metadata": {},
   "outputs": [],
   "source": [
    "# compiler\n",
    "model.compile(loss='binary_crossentropy', optimizer='adam', metrics=['accuracy'])"
   ]
  },
  {
   "cell_type": "code",
   "execution_count": null,
   "metadata": {},
   "outputs": [],
   "source": [
    "# training\n",
    "model.fit(X_train, y_train, epochs=10, batch_size=10)"
   ]
  },
  {
   "cell_type": "code",
   "execution_count": null,
   "metadata": {},
   "outputs": [],
   "source": [
    "# testing\n",
    "model.fit(X_test, y_test, epochs=20, batch_size=10)"
   ]
  },
  {
   "cell_type": "code",
   "execution_count": null,
   "metadata": {},
   "outputs": [],
   "source": [
    "# accuracy scores\n",
    "_, accuracy = model.evaluate(X_test, y_test)\n",
    "print('Accuracy: %.2f' % (accuracy*100))"
   ]
  }
 ],
 "metadata": {
  "language_info": {
   "name": "python"
  }
 },
 "nbformat": 4,
 "nbformat_minor": 2
}
